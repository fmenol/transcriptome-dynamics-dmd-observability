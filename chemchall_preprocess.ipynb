{
 "cells": [
  {
   "cell_type": "code",
   "execution_count": null,
   "metadata": {},
   "outputs": [],
   "source": [
    "#Download the data\n",
    "!wget https://biodynamics.ucsd.edu/wp-content/uploads/2020/08/features_targets_loadingrecord.zip\n",
    "#Create a new folder for the data\n",
    "!mkdir data_chem\n",
    "#Unzip the data\n",
    "!unzip features_targets_loadingrecord -d data_chem/\n",
    "!rm features_targets_loadingrecord.zip\n",
    "!echo \"data_chem/\" >> .gitignore"
   ]
  },
  {
   "cell_type": "code",
   "execution_count": 1,
   "metadata": {},
   "outputs": [],
   "source": [
    "import pandas as pd\n",
    "from copy import deepcopy\n",
    "import numpy as np"
   ]
  },
  {
   "cell_type": "markdown",
   "metadata": {},
   "source": [
    "## Data loading\n",
    "\n",
    "This section downloads the data prepares it for the data-preprocessing step. The last step before preprocessing combines duplicated genes by taking their average."
   ]
  },
  {
   "cell_type": "code",
   "execution_count": 2,
   "metadata": {},
   "outputs": [],
   "source": [
    "#Load the matrix with all the data\n",
    "data_full = pd.read_csv(\"./data_chem/features.csv\")\n",
    "#Load induction time profiles\n",
    "u_ts = pd.read_csv(\"./data_chem/targets.csv\")\n",
    "#Load genes\n",
    "genes = pd.read_csv(\"./data_chem/loading_record.csv\")"
   ]
  },
  {
   "cell_type": "code",
   "execution_count": 3,
   "metadata": {},
   "outputs": [],
   "source": [
    "#List and print all experiments\n",
    "exp_id = data_full.exp_id.unique()\n",
    "# print(exp_id)\n",
    "\n",
    "#Select the experiment\n",
    "exp_of_interest = 1 #this selects the first experiment only\n",
    "\n",
    "#Subselecting data for the experiment of interest\n",
    "df_exp = data_full[data_full.exp_id == exp_id[exp_of_interest-1]].drop(columns=[\"Unnamed: 1\", \"exp_id\"])\n",
    "\n",
    "#Renaming columns\n",
    "df_exp.columns = genes.gene_name\n",
    "\n",
    "#Filtering out spots with no strain averaging duplicate genes\n",
    "df_exp=df_exp.iloc[:,df_exp.columns.notna()]"
   ]
  },
  {
   "cell_type": "code",
   "execution_count": 4,
   "metadata": {},
   "outputs": [
    {
     "data": {
      "text/plain": [
       "{\"('MilliQ_ddH2O',)\": [(0, 107), (132, 371), (396, 638), (664, 789)],\n",
       " \"('Cd(II)',)\": [(108, 131), (639, 663)],\n",
       " \"('Pb(II)',)\": [(372, 395)]}"
      ]
     },
     "execution_count": 4,
     "metadata": {},
     "output_type": "execute_result"
    }
   ],
   "source": [
    "# This section extracts the input profile\n",
    "# Display the unique values in the \"induction_state\" column\n",
    "u_ts = deepcopy(u_ts[u_ts.exp_id == exp_id[exp_of_interest-1]])\n",
    "\n",
    "unique_induction_states = u_ts[\"induction_state\"].unique()\n",
    "\n",
    "# Define a mapping for encoding of u_ts\n",
    "encoding_map = {\n",
    "    \"('MilliQ_ddH2O',)\": 0,\n",
    "}\n",
    "\n",
    "# Assign subsequent integers to other unique values\n",
    "for idx, state in enumerate(unique_induction_states, start=0):\n",
    "    if state not in encoding_map:\n",
    "        encoding_map[state] = idx\n",
    "\n",
    "u_ts[\"induction_state_encoded\"] = u_ts[\"induction_state\"].map(encoding_map)\n",
    "\n",
    "\n",
    "# Create a dictionary to store start and end indices for each induction state occurrence\n",
    "induction_intervals = {}\n",
    "\n",
    "# Initialize variables to keep track of the current state and its start index\n",
    "current_state = None\n",
    "start_index = None\n",
    "\n",
    "# Loop through rows in the DataFrame\n",
    "for idx, row in u_ts.iterrows():\n",
    "    state = row[\"induction_state\"]\n",
    "    \n",
    "    # If we encounter a new state or reach the end of the DataFrame\n",
    "    if current_state != state or idx == u_ts.index[-1]:\n",
    "        # If we were tracking a state, save its interval (except for the first iteration)\n",
    "        if current_state is not None:\n",
    "            # Adjust end index for the last entry in the DataFrame\n",
    "            end_index = idx if idx == u_ts.index[-1] and current_state == state else idx - 1\n",
    "            if current_state in induction_intervals:\n",
    "                induction_intervals[current_state].append((start_index, end_index))\n",
    "            else:\n",
    "                induction_intervals[current_state] = [(start_index, end_index)]\n",
    "        \n",
    "        # Start tracking the new state\n",
    "        current_state = state\n",
    "        start_index = idx\n",
    "\n",
    "induction_intervals"
   ]
  },
  {
   "cell_type": "code",
   "execution_count": 5,
   "metadata": {},
   "outputs": [
    {
     "data": {
      "text/plain": [
       "(790, 1995)"
      ]
     },
     "execution_count": 5,
     "metadata": {},
     "output_type": "execute_result"
    }
   ],
   "source": [
    "# stimulus_of_interest = 1 #This is selecting the first \"kick\" only\n",
    "\n",
    "# # This block identified start and end time of each stimulus (i.e. whenever the same stimulus has been applied > 1x in an experiment it allows to subselect \"duplicates\")\n",
    "\n",
    "# start_time = [i[0] for i in induction_intervals[u_ts.induction_state.unique()[stimulus_of_interest]]]\n",
    "# end_time = [i[1] for i in induction_intervals[u_ts.induction_state.unique()[stimulus_of_interest]]]\n",
    "\n",
    "# df_exp = deepcopy(df_exp.iloc[start_time[0]:end_time[0]+1,:])\n",
    "# df_exp.shape"
   ]
  },
  {
   "cell_type": "code",
   "execution_count": 6,
   "metadata": {},
   "outputs": [
    {
     "name": "stdout",
     "output_type": "stream",
     "text": [
      "The gene  zntA  has  15  spots associated to it (biological replicates)\n",
      "The gene  rpoS  has  15  spots associated to it (biological replicates)\n",
      "The gene  cueO  has  15  spots associated to it (biological replicates)\n",
      "The gene  rpoH  has  15  spots associated to it (biological replicates)\n",
      "The gene  wrbA  has  21  spots associated to it (biological replicates)\n",
      "The gene  rpoD  has  15  spots associated to it (biological replicates)\n",
      "The gene  fimD  has  15  spots associated to it (biological replicates)\n",
      "The gene  lacZ  has  22  spots associated to it (biological replicates)\n",
      "The gene  yacH  has  2  spots associated to it (biological replicates)\n",
      "The gene  U66  has  20  spots associated to it (biological replicates)\n",
      "The gene  serA  has  21  spots associated to it (biological replicates)\n",
      "The gene  U139  has  20  spots associated to it (biological replicates)\n",
      "The gene  tdcG_2  has  2  spots associated to it (biological replicates)\n",
      "The gene  infA  has  3  spots associated to it (biological replicates)\n",
      "The gene  yebF  has  2  spots associated to it (biological replicates)\n"
     ]
    },
    {
     "name": "stderr",
     "output_type": "stream",
     "text": [
      "/tmp/ipykernel_89368/3742261841.py:14: PerformanceWarning: DataFrame is highly fragmented.  This is usually the result of calling `frame.insert` many times, which has poor performance.  Consider joining all columns at once using pd.concat(axis=1) instead.  To get a de-fragmented frame, use `newframe = frame.copy()`\n",
      "  df_result[column] = df_exp[column]\n",
      "/tmp/ipykernel_89368/3742261841.py:19: PerformanceWarning: DataFrame is highly fragmented.  This is usually the result of calling `frame.insert` many times, which has poor performance.  Consider joining all columns at once using pd.concat(axis=1) instead.  To get a de-fragmented frame, use `newframe = frame.copy()`\n",
      "  df_result[dup_col] = df_exp[dup_col].mean(axis=1)\n"
     ]
    },
    {
     "data": {
      "text/html": [
       "<div>\n",
       "<style scoped>\n",
       "    .dataframe tbody tr th:only-of-type {\n",
       "        vertical-align: middle;\n",
       "    }\n",
       "\n",
       "    .dataframe tbody tr th {\n",
       "        vertical-align: top;\n",
       "    }\n",
       "\n",
       "    .dataframe thead th {\n",
       "        text-align: right;\n",
       "    }\n",
       "</style>\n",
       "<table border=\"1\" class=\"dataframe\">\n",
       "  <thead>\n",
       "    <tr style=\"text-align: right;\">\n",
       "      <th></th>\n",
       "      <th>rihC</th>\n",
       "      <th>ypfH</th>\n",
       "      <th>alsI</th>\n",
       "      <th>ygdQ</th>\n",
       "      <th>yabP</th>\n",
       "      <th>ypfJ</th>\n",
       "      <th>talB</th>\n",
       "      <th>yqeI</th>\n",
       "      <th>yabI</th>\n",
       "      <th>hda</th>\n",
       "      <th>...</th>\n",
       "      <th>rpoD</th>\n",
       "      <th>fimD</th>\n",
       "      <th>lacZ</th>\n",
       "      <th>yacH</th>\n",
       "      <th>U66</th>\n",
       "      <th>serA</th>\n",
       "      <th>U139</th>\n",
       "      <th>tdcG_2</th>\n",
       "      <th>infA</th>\n",
       "      <th>yebF</th>\n",
       "    </tr>\n",
       "  </thead>\n",
       "  <tbody>\n",
       "    <tr>\n",
       "      <th>0</th>\n",
       "      <td>-0.022629</td>\n",
       "      <td>0.148508</td>\n",
       "      <td>-0.088955</td>\n",
       "      <td>-0.232066</td>\n",
       "      <td>0.069350</td>\n",
       "      <td>-0.644056</td>\n",
       "      <td>-0.030329</td>\n",
       "      <td>-0.020271</td>\n",
       "      <td>0.158288</td>\n",
       "      <td>1.246769</td>\n",
       "      <td>...</td>\n",
       "      <td>-0.084612</td>\n",
       "      <td>-0.012124</td>\n",
       "      <td>-0.064123</td>\n",
       "      <td>-0.065857</td>\n",
       "      <td>-0.063226</td>\n",
       "      <td>2.938553</td>\n",
       "      <td>-0.079553</td>\n",
       "      <td>-0.094431</td>\n",
       "      <td>-3.164757</td>\n",
       "      <td>-0.242952</td>\n",
       "    </tr>\n",
       "    <tr>\n",
       "      <th>1</th>\n",
       "      <td>-0.075618</td>\n",
       "      <td>-0.191642</td>\n",
       "      <td>-0.041127</td>\n",
       "      <td>0.221798</td>\n",
       "      <td>0.114038</td>\n",
       "      <td>-0.554063</td>\n",
       "      <td>-0.029043</td>\n",
       "      <td>0.117677</td>\n",
       "      <td>0.020580</td>\n",
       "      <td>1.160078</td>\n",
       "      <td>...</td>\n",
       "      <td>-0.051237</td>\n",
       "      <td>-0.009570</td>\n",
       "      <td>-0.067436</td>\n",
       "      <td>-0.047152</td>\n",
       "      <td>-0.096200</td>\n",
       "      <td>3.144924</td>\n",
       "      <td>-0.022218</td>\n",
       "      <td>-0.034728</td>\n",
       "      <td>-1.831284</td>\n",
       "      <td>0.094008</td>\n",
       "    </tr>\n",
       "    <tr>\n",
       "      <th>2</th>\n",
       "      <td>0.053473</td>\n",
       "      <td>0.146480</td>\n",
       "      <td>-0.111173</td>\n",
       "      <td>0.138315</td>\n",
       "      <td>0.002590</td>\n",
       "      <td>-0.147216</td>\n",
       "      <td>-0.113246</td>\n",
       "      <td>-0.030373</td>\n",
       "      <td>0.089998</td>\n",
       "      <td>1.312099</td>\n",
       "      <td>...</td>\n",
       "      <td>-0.020321</td>\n",
       "      <td>-0.031348</td>\n",
       "      <td>-0.067067</td>\n",
       "      <td>0.027820</td>\n",
       "      <td>-0.080628</td>\n",
       "      <td>3.385740</td>\n",
       "      <td>-0.017088</td>\n",
       "      <td>-0.034646</td>\n",
       "      <td>-3.035438</td>\n",
       "      <td>-0.126263</td>\n",
       "    </tr>\n",
       "    <tr>\n",
       "      <th>3</th>\n",
       "      <td>-0.137537</td>\n",
       "      <td>-0.224630</td>\n",
       "      <td>-0.055299</td>\n",
       "      <td>0.019529</td>\n",
       "      <td>0.085433</td>\n",
       "      <td>-0.508369</td>\n",
       "      <td>0.011168</td>\n",
       "      <td>-0.104683</td>\n",
       "      <td>0.235458</td>\n",
       "      <td>0.657336</td>\n",
       "      <td>...</td>\n",
       "      <td>-0.018129</td>\n",
       "      <td>-0.012545</td>\n",
       "      <td>-0.007957</td>\n",
       "      <td>-0.086683</td>\n",
       "      <td>-0.067020</td>\n",
       "      <td>2.658177</td>\n",
       "      <td>-0.048128</td>\n",
       "      <td>-0.101937</td>\n",
       "      <td>-2.332679</td>\n",
       "      <td>0.168084</td>\n",
       "    </tr>\n",
       "    <tr>\n",
       "      <th>4</th>\n",
       "      <td>-0.001089</td>\n",
       "      <td>0.149665</td>\n",
       "      <td>0.019627</td>\n",
       "      <td>0.292656</td>\n",
       "      <td>-0.153317</td>\n",
       "      <td>-0.116954</td>\n",
       "      <td>-0.076620</td>\n",
       "      <td>-0.048036</td>\n",
       "      <td>0.044441</td>\n",
       "      <td>1.461989</td>\n",
       "      <td>...</td>\n",
       "      <td>-0.072185</td>\n",
       "      <td>-0.016076</td>\n",
       "      <td>-0.097118</td>\n",
       "      <td>-0.055341</td>\n",
       "      <td>-0.110282</td>\n",
       "      <td>2.639522</td>\n",
       "      <td>-0.048160</td>\n",
       "      <td>-0.161916</td>\n",
       "      <td>-1.510021</td>\n",
       "      <td>0.566953</td>\n",
       "    </tr>\n",
       "  </tbody>\n",
       "</table>\n",
       "<p>5 rows × 1807 columns</p>\n",
       "</div>"
      ],
      "text/plain": [
       "       rihC      ypfH      alsI      ygdQ      yabP      ypfJ      talB  \\\n",
       "0 -0.022629  0.148508 -0.088955 -0.232066  0.069350 -0.644056 -0.030329   \n",
       "1 -0.075618 -0.191642 -0.041127  0.221798  0.114038 -0.554063 -0.029043   \n",
       "2  0.053473  0.146480 -0.111173  0.138315  0.002590 -0.147216 -0.113246   \n",
       "3 -0.137537 -0.224630 -0.055299  0.019529  0.085433 -0.508369  0.011168   \n",
       "4 -0.001089  0.149665  0.019627  0.292656 -0.153317 -0.116954 -0.076620   \n",
       "\n",
       "       yqeI      yabI       hda  ...      rpoD      fimD      lacZ      yacH  \\\n",
       "0 -0.020271  0.158288  1.246769  ... -0.084612 -0.012124 -0.064123 -0.065857   \n",
       "1  0.117677  0.020580  1.160078  ... -0.051237 -0.009570 -0.067436 -0.047152   \n",
       "2 -0.030373  0.089998  1.312099  ... -0.020321 -0.031348 -0.067067  0.027820   \n",
       "3 -0.104683  0.235458  0.657336  ... -0.018129 -0.012545 -0.007957 -0.086683   \n",
       "4 -0.048036  0.044441  1.461989  ... -0.072185 -0.016076 -0.097118 -0.055341   \n",
       "\n",
       "        U66      serA      U139    tdcG_2      infA      yebF  \n",
       "0 -0.063226  2.938553 -0.079553 -0.094431 -3.164757 -0.242952  \n",
       "1 -0.096200  3.144924 -0.022218 -0.034728 -1.831284  0.094008  \n",
       "2 -0.080628  3.385740 -0.017088 -0.034646 -3.035438 -0.126263  \n",
       "3 -0.067020  2.658177 -0.048128 -0.101937 -2.332679  0.168084  \n",
       "4 -0.110282  2.639522 -0.048160 -0.161916 -1.510021  0.566953  \n",
       "\n",
       "[5 rows x 1807 columns]"
      ]
     },
     "execution_count": 6,
     "metadata": {},
     "output_type": "execute_result"
    }
   ],
   "source": [
    "#In the original dataset there are several \"biological replicates\", i.e. spots of the chip where the same gene is tracked\n",
    "#This snippet of code averages all these spots to obtain a final dataset with one column per gene\n",
    "duplicated_columns = df_exp.columns[df_exp.columns.duplicated(keep=False)].unique()\n",
    "\n",
    "for i in duplicated_columns:\n",
    "    print(\"The gene \",i, \" has \", df_exp[i].shape[1], \" spots associated to it (biological replicates)\")\n",
    "\n",
    "# Create a new DataFrame to store the results\n",
    "df_result = pd.DataFrame()\n",
    "\n",
    "# Process non-duplicated columns\n",
    "for column in df_exp.columns:\n",
    "    if column not in duplicated_columns:\n",
    "        df_result[column] = df_exp[column]\n",
    "\n",
    "# Process duplicated columns\n",
    "for dup_col in duplicated_columns:\n",
    "    # Take the average of duplicated columns and assign to the result DataFrame\n",
    "    df_result[dup_col] = df_exp[dup_col].mean(axis=1)\n",
    "\n",
    "df_result.head()"
   ]
  },
  {
   "cell_type": "code",
   "execution_count": 9,
   "metadata": {},
   "outputs": [],
   "source": [
    "# #Saving THE experiment selected to a csv file\n",
    "df_result.to_csv(\"./data_chem/exp\"+str(exp_id[exp_of_interest-1])+\".csv\", index=False)"
   ]
  },
  {
   "cell_type": "markdown",
   "metadata": {},
   "source": [
    "## Data pre-processing\n",
    "\n",
    "In this section we do 2 things:\n",
    "1. Use a smoothing filter to smoothen the data\n",
    "2. Renormalise all time series so that each gene has $\\mu = 0$ and $\\sigma = 1$"
   ]
  },
  {
   "cell_type": "code",
   "execution_count": 78,
   "metadata": {},
   "outputs": [
    {
     "name": "stdout",
     "output_type": "stream",
     "text": [
      "There are 3 in this experiment.\n",
      "0 .  ('MilliQ_ddH2O',)\n",
      "1 .  ('Cd(II)',)\n",
      "2 .  ('Pb(II)',)\n",
      "\n",
      " You selected: ('Cd(II)',)\n"
     ]
    }
   ],
   "source": [
    "df = deepcopy(df_result) #renaming the array for simplicity (and because I'm lazy :P)\n",
    "\n",
    "print(\"There are \"+str(len(induction_intervals))+\" in this experiment.\")\n",
    "for i,x in enumerate(induction_intervals):\n",
    "    print(i,\". \",x)\n",
    "stimulus_of_interest=int(input(\"Which input are you interested in?\"))-1\n",
    "\n",
    "start_time = [i[0] for i in induction_intervals[u_ts.induction_state.unique()[stimulus_of_interest]]]\n",
    "end_time = [i[1] for i in induction_intervals[u_ts.induction_state.unique()[stimulus_of_interest]]]\n",
    "replicates = len(induction_intervals[u_ts.induction_state.unique()[stimulus_of_interest]])\n",
    "\n",
    "print(\"\\n You selected: \"+u_ts.induction_state.unique()[stimulus_of_interest])"
   ]
  },
  {
   "cell_type": "code",
   "execution_count": 79,
   "metadata": {},
   "outputs": [],
   "source": [
    "#This the maximum length of the time-series (i.e. the number of rows) in the 3D matrix, given that  \n",
    "max_w = np.min([(end_time[i] - start_time[i]) for i in range(len(start_time))])\n",
    "\n",
    "#Creating the 3D matrix\n",
    "data = np.empty(shape=(len(df.columns), max_w, replicates))"
   ]
  },
  {
   "cell_type": "code",
   "execution_count": 74,
   "metadata": {},
   "outputs": [
    {
     "name": "stdout",
     "output_type": "stream",
     "text": [
      "108 131\n",
      "639 662\n"
     ]
    }
   ],
   "source": [
    "#Assembling the 3D array, based on the stimulus selected (note that the 3rd dimension might be a singleton)\n",
    "for  i in range(replicates):\n",
    "    # print(i+1)\n",
    "    data[:,:,i] = df.iloc[start_time[i]:start_time[i]+max_w,:].T.values\n",
    "    print(start_time[i], start_time[i]+max_w)"
   ]
  },
  {
   "cell_type": "code",
   "execution_count": 77,
   "metadata": {},
   "outputs": [],
   "source": [
    "#This section simply filters the data (row-wise, as each row now it's a gene)\n",
    "from scipy.signal import savgol_filter as savgol \n",
    "\n",
    "data_f = savgol(data, window_length=5, polyorder=2, axis=1)\n"
   ]
  },
  {
   "cell_type": "code",
   "execution_count": 80,
   "metadata": {},
   "outputs": [
    {
     "data": {
      "text/plain": [
       "(1807, 23, 2)"
      ]
     },
     "execution_count": 80,
     "metadata": {},
     "output_type": "execute_result"
    }
   ],
   "source": [
    "data.shape"
   ]
  },
  {
   "cell_type": "code",
   "execution_count": null,
   "metadata": {},
   "outputs": [],
   "source": []
  }
 ],
 "metadata": {
  "kernelspec": {
   "display_name": "Python 3",
   "language": "python",
   "name": "python3"
  },
  "language_info": {
   "codemirror_mode": {
    "name": "ipython",
    "version": 3
   },
   "file_extension": ".py",
   "mimetype": "text/x-python",
   "name": "python",
   "nbconvert_exporter": "python",
   "pygments_lexer": "ipython3",
   "version": "3.8.17"
  },
  "orig_nbformat": 4
 },
 "nbformat": 4,
 "nbformat_minor": 2
}
