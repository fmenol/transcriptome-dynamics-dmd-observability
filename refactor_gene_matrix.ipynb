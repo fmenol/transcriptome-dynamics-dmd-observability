{
 "cells": [
  {
   "cell_type": "code",
   "execution_count": 6,
   "metadata": {},
   "outputs": [],
   "source": [
    "import pandas as pd\n",
    "import re"
   ]
  },
  {
   "cell_type": "code",
   "execution_count": 35,
   "metadata": {},
   "outputs": [],
   "source": [
    "gene_mat = pd.read_csv('./data/gene_matrix.csv', index_col=0)"
   ]
  },
  {
   "cell_type": "markdown",
   "metadata": {},
   "source": [
    "### Find the columns with duplicated names"
   ]
  },
  {
   "cell_type": "code",
   "execution_count": 36,
   "metadata": {},
   "outputs": [
    {
     "name": "stdout",
     "output_type": "stream",
     "text": [
      "{'wrbA', 'rpoS', 'rpoD', 'U66', 'cueO', 'infA', 'tdcG_2', 'rpoH', 'U139', 'yacH', 'zntA', 'lacZ', 'yebF', 'fimD', 'serA'}\n"
     ]
    }
   ],
   "source": [
    "# Find all the columns with a name like X.A\n",
    "pattern = r'([a-zA-Z0-9_\\-#]+)\\.\\d+'\n",
    "matching_columns = [col for col in gene_mat.columns if re.match(pattern, col)]\n",
    "\n",
    "# Extract the unique X values\n",
    "unique_X = set([re.match(pattern, col).group(1) for col in matching_columns])\n",
    "\n",
    "print(unique_X)\n",
    "len(unique_X)\n",
    "\n",
    "column_dict = {x: [col for col in matching_columns if col.startswith(x)] for x in unique_X}"
   ]
  },
  {
   "cell_type": "code",
   "execution_count": 37,
   "metadata": {},
   "outputs": [],
   "source": [
    "for key, values in column_dict.items():\n",
    "    for value in values:\n",
    "        gene_mat = gene_mat.drop(value, axis=1)\n",
    "        # print(value)"
   ]
  },
  {
   "cell_type": "code",
   "execution_count": 39,
   "metadata": {},
   "outputs": [],
   "source": [
    "gene_mat = gene_mat[~gene_mat.index.duplicated(keep='first')]"
   ]
  },
  {
   "cell_type": "code",
   "execution_count": 40,
   "metadata": {},
   "outputs": [
    {
     "data": {
      "text/plain": [
       "(1807, 1807)"
      ]
     },
     "execution_count": 40,
     "metadata": {},
     "output_type": "execute_result"
    }
   ],
   "source": [
    "gene_mat.shape"
   ]
  },
  {
   "cell_type": "code",
   "execution_count": 42,
   "metadata": {},
   "outputs": [],
   "source": [
    "gene_mat.to_csv('./data/gene_matrix_1807.csv')"
   ]
  },
  {
   "cell_type": "code",
   "execution_count": null,
   "metadata": {},
   "outputs": [],
   "source": []
  }
 ],
 "metadata": {
  "kernelspec": {
   "display_name": "Python 3",
   "language": "python",
   "name": "python3"
  },
  "language_info": {
   "codemirror_mode": {
    "name": "ipython",
    "version": 3
   },
   "file_extension": ".py",
   "mimetype": "text/x-python",
   "name": "python",
   "nbconvert_exporter": "python",
   "pygments_lexer": "ipython3",
   "version": "3.8.19"
  }
 },
 "nbformat": 4,
 "nbformat_minor": 2
}
