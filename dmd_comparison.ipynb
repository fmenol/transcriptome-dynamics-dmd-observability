{
 "cells": [
  {
   "cell_type": "code",
   "execution_count": null,
   "metadata": {},
   "outputs": [],
   "source": [
    "import numpy as np\n",
    "import matplotlib.pyplot as plt\n",
    "import pandas as pd \n",
    "from copy import deepcopy\n",
    "\n",
    "from pydmd import DMD\n",
    "from pydmd.bopdmd import BOPDMD\n",
    "from pydmd.plotter import plot_eigs, plot_summary \n",
    "\n",
    "import matplotlib.pyplot as plt"
   ]
  },
  {
   "cell_type": "code",
   "execution_count": null,
   "metadata": {},
   "outputs": [],
   "source": [
    "_ = pd.read_csv('cdii.csv').drop(columns=['Unnamed: 0'])\n",
    "Xn = _.values\n",
    "\n",
    "t=np.linspace(0, 230, 24)"
   ]
  },
  {
   "cell_type": "code",
   "execution_count": null,
   "metadata": {},
   "outputs": [],
   "source": [
    "dmd = DMD(svd_rank=24, tlsq_rank=2, exact=True, opt=True)\n",
    "dmd.fit(Xn)\n",
    "\n",
    "Aexa = np.linalg.multi_dot([dmd.modes, np.diag(dmd.eigs), np.linalg.pinv(dmd.modes)])"
   ]
  },
  {
   "cell_type": "code",
   "execution_count": null,
   "metadata": {},
   "outputs": [],
   "source": [
    "def hard_threshold(X, gamma=0.01):\n",
    "    # Hard thresholding for L0 norm.\n",
    "    X[np.abs(X) ** 2 < 5 * gamma] = 0.0\n",
    "    return X\n",
    "\n",
    "def soft_threshold(X, gamma=0.05):\n",
    "    # Soft thresholding for L1 norm.\n",
    "    return np.sign(X) * np.maximum(np.abs(X) - gamma, 0.0)"
   ]
  },
  {
   "cell_type": "code",
   "execution_count": null,
   "metadata": {},
   "outputs": [],
   "source": [
    "bopdmd = BOPDMD(\n",
    "    svd_rank=24,\n",
    "    num_trials=10,\n",
    "    trial_size=0.8,\n",
    "    varpro_opts_dict={\"verbose\":True, \"tol\":0.8},\n",
    "    eig_constraints={\"imag\"},\n",
    "    use_proj=False,\n",
    "    mode_proxy=hard_threshold,\n",
    "    compute_A=True\n",
    ")\n",
    "\n",
    "bopdmd.fit(Xn, t)"
   ]
  },
  {
   "cell_type": "code",
   "execution_count": null,
   "metadata": {},
   "outputs": [],
   "source": [
    "Abop = np.linalg.multi_dot([bopdmd.modes, np.diag(bopdmd.eigs), np.linalg.pinv(bopdmd.modes)])"
   ]
  },
  {
   "cell_type": "code",
   "execution_count": null,
   "metadata": {},
   "outputs": [],
   "source": [
    "rows = np.random.randint(0,1807,10).reshape(10,1)\n",
    "cols = np.random.randint(0,1807,10).reshape(1,10)\n",
    "\n",
    "# Plotting A\n",
    "plt.subplot(1, 2, 1)\n",
    "plt.imshow(np.abs(Aexa[rows, cols]), cmap='RdBu', vmin=-0.01, vmax=0.01)\n",
    "plt.title('Matrix A (exact DMD)')\n",
    "plt.colorbar()\n",
    "\n",
    "# Plotting Aexa\n",
    "plt.subplot(1, 2, 2)\n",
    "plt.imshow(np.abs(bopdmd.A[rows, cols]), cmap='RdBu', vmin=-0.1, vmax=0.1)\n",
    "plt.title('Matrix A (BOPDMD)')\n",
    "plt.colorbar()\n",
    "\n",
    "plt.show()\n"
   ]
  },
  {
   "cell_type": "code",
   "execution_count": null,
   "metadata": {},
   "outputs": [],
   "source": [
    "plt.figure(figsize=(6, 4))\n",
    "plt.hist(Aexa.flatten(), bins=np.linspace(-0.2,0.2,50), color='blue', alpha=0.3, label='Aexa', density=True)\n",
    "plt.hist(Abop.flatten(), bins=np.linspace(-0.2,0.2,50), color='red', alpha=0.3, label='Abop', density=True)\n",
    "plt.title('Distribution of values in Aexa and Abop')\n",
    "plt.xlabel('Value')\n",
    "plt.ylabel('Frequency')\n",
    "plt.legend()\n",
    "plt.tight_layout()\n",
    "plt.show()"
   ]
  },
  {
   "cell_type": "code",
   "execution_count": null,
   "metadata": {},
   "outputs": [],
   "source": [
    "rndset = np.random.choice(range(Xn.shape[0]), size=3, replace=False)\n",
    "\n",
    "plt.figure(figsize=(10, 12))\n",
    "\n",
    "# Plotting the first 3 rows of Xn as dots\n",
    "for i, value in enumerate(rndset):\n",
    "    plt.subplot(3, 1, i+1)\n",
    "    plt.scatter(t, Xn[value], label=f'Xn Row {value+1}', marker='o')\n",
    "    plt.plot(t, bopdmd.reconstructed_data[value], label=f'Reconstructed Data (dop) Row {value+1}', linestyle='--', color='red')\n",
    "    plt.plot(t, dmd.reconstructed_data[value], label=f'Reconstructed Data (exa) Row {value+1}', linestyle='--', color='green')\n",
    "    plt.xlabel('Time')\n",
    "    plt.ylabel('Value')\n",
    "    plt.legend()\n",
    "\n",
    "plt.tight_layout()\n",
    "plt.show()"
   ]
  },
  {
   "cell_type": "code",
   "execution_count": null,
   "metadata": {},
   "outputs": [],
   "source": [
    "reconstruction_mean, reco_variance = bopdmd.forecast(t)"
   ]
  },
  {
   "cell_type": "code",
   "execution_count": null,
   "metadata": {},
   "outputs": [],
   "source": [
    "plt.figure(figsize=(50, 5))\n",
    "plt.imshow(reco_variance, cmap='RdBu', aspect=0.01, vmax=3)\n",
    "plt.colorbar()\n",
    "plt.title('Reconstruction Variance')\n",
    "plt.show()\n"
   ]
  }
 ],
 "metadata": {
  "kernelspec": {
   "display_name": "Python 3",
   "language": "python",
   "name": "python3"
  },
  "language_info": {
   "codemirror_mode": {
    "name": "ipython",
    "version": 3
   },
   "file_extension": ".py",
   "mimetype": "text/x-python",
   "name": "python",
   "nbconvert_exporter": "python",
   "pygments_lexer": "ipython3",
   "version": "3.8.18"
  }
 },
 "nbformat": 4,
 "nbformat_minor": 2
}
